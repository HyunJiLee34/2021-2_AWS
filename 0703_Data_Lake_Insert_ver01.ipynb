{
 "cells": [
  {
   "cell_type": "code",
   "execution_count": 1,
   "id": "9c5a5274",
   "metadata": {},
   "outputs": [],
   "source": [
    "import sys\n",
    "import boto3\n",
    "import requests\n",
    "import base64\n",
    "import json\n",
    "import pandas as pd\n",
    "from datetime import datetime\n",
    "import jsonpath"
   ]
  },
  {
   "cell_type": "code",
   "execution_count": 2,
   "id": "756d7204",
   "metadata": {},
   "outputs": [],
   "source": [
    "def get_headers(client_id, client_secret):\n",
    "    endpoint = 'https://accounts.spotify.com/api/token'\n",
    "    encoded = base64.b64encode((client_id+':'+client_secret).encode('utf-8')).decode('ascii')\n",
    "    headers = {'Authorization': 'Basic {auth}'.format(auth=encoded)}\n",
    "    payload = {'grant_type':'client_credentials'}\n",
    "    try:\n",
    "        r = requests.post(endpoint, data=payload, headers=headers)\n",
    "    except:\n",
    "        print('인증오류가 발생되었습니다!')\n",
    "        sys.exit(1)\n",
    "    if r.status_code!=200:\n",
    "        if r.status_code==401:\n",
    "            print('Client_id와 Secret이 잘못되었습니다!')\n",
    "            sys.exit(1)\n",
    "        else:\n",
    "            print('인증오류가 발생되었습니다!:', r.status_code)\n",
    "            sys.exit(1)\n",
    "    acess_token = json.loads(r.text).get('access_token')\n",
    "    headers = {'Authorization': 'Bearer {auth}'.format(auth=acess_token)}\n",
    "    return headers"
   ]
  },
  {
   "cell_type": "code",
   "execution_count": 3,
   "id": "bfd3bd1c",
   "metadata": {},
   "outputs": [],
   "source": [
    "client_id = '9e22029795364c83be0d5c1c8ea99657'\n",
    "client_secret = '70ad0771afa2461cb64ce15843e80d10'"
   ]
  },
  {
   "cell_type": "code",
   "execution_count": 3,
   "id": "96f49bd5",
   "metadata": {},
   "outputs": [
    {
     "data": {
      "text/plain": [
       "dynamodb.Table(name='top_tracks')"
      ]
     },
     "execution_count": 3,
     "metadata": {},
     "output_type": "execute_result"
    }
   ],
   "source": [
    "try:\n",
    "    dynamodb = boto3.resource('dynamodb',\n",
    "                             region_name='ap-northeast-2',\n",
    "                             endpoint_url='http://dynamodb.ap-northeast-2.amazonaws.com')\n",
    "except:\n",
    "    print('DynamoDB접속오류!')\n",
    "    sys.exit(1)\n",
    "\n",
    "table = dynamodb.Table('top_tracks')\n",
    "table\n",
    "# response = table.scan()\n",
    "# response = response['Items']"
   ]
  },
  {
   "cell_type": "code",
   "execution_count": 5,
   "id": "846ab1ba",
   "metadata": {},
   "outputs": [
    {
     "name": "stdout",
     "output_type": "stream",
     "text": [
      "<class 'pandas.core.frame.DataFrame'>\n",
      "RangeIndex: 4963 entries, 0 to 4962\n",
      "Data columns (total 5 columns):\n",
      " #   Column        Non-Null Count  Dtype \n",
      "---  ------        --------------  ----- \n",
      " 0   artist_id     4963 non-null   object\n",
      " 1   track_id      4963 non-null   object\n",
      " 2   track_name    4963 non-null   object\n",
      " 3   popularity    4963 non-null   object\n",
      " 4   external_url  4963 non-null   object\n",
      "dtypes: object(5)\n",
      "memory usage: 194.0+ KB\n"
     ]
    }
   ],
   "source": [
    "data = pd.DataFrame(response)\n",
    "data = data[['artist_id','track_id','track_name','popularity','external_url']]\n",
    "data.info()"
   ]
  },
  {
   "cell_type": "code",
   "execution_count": 6,
   "id": "3a993c19",
   "metadata": {},
   "outputs": [
    {
     "data": {
      "text/plain": [
       "{'ResponseMetadata': {'RequestId': '168C6T6HHA9B1QFF',\n",
       "  'HostId': 'hZp7zWDzMteq6NK/x188VK2IIMQ8lCpqC9KQKYIEyuyd269ytx8e6OEtLcSKs8QyOI6N0q4ImcI=',\n",
       "  'HTTPStatusCode': 200,\n",
       "  'HTTPHeaders': {'x-amz-id-2': 'hZp7zWDzMteq6NK/x188VK2IIMQ8lCpqC9KQKYIEyuyd269ytx8e6OEtLcSKs8QyOI6N0q4ImcI=',\n",
       "   'x-amz-request-id': '168C6T6HHA9B1QFF',\n",
       "   'date': 'Mon, 01 Nov 2021 05:28:16 GMT',\n",
       "   'etag': '\"206527adc60c4285c538f246ccf1f93c\"',\n",
       "   'server': 'AmazonS3',\n",
       "   'content-length': '0'},\n",
       "  'RetryAttempts': 0},\n",
       " 'ETag': '\"206527adc60c4285c538f246ccf1f93c\"'}"
      ]
     },
     "execution_count": 6,
     "metadata": {},
     "output_type": "execute_result"
    }
   ],
   "source": [
    "data.to_parquet('top_tracks.parquet', engine='pyarrow',\n",
    "                compression='snappy')\n",
    "dt = datetime.utcnow().strftime('%Y-%m-%d')\n",
    "s3 = boto3.resource('s3', region_name='ap-northeast-2')\n",
    "ob = s3.Object('moon-artist', 'top-tracks/dt={}/top_tracks.parquet'.format(dt))\n",
    "data = open('top_tracks.parquet', 'rb')\n",
    "ob.put(Body=data)"
   ]
  },
  {
   "cell_type": "code",
   "execution_count": 7,
   "id": "73c3e73f",
   "metadata": {},
   "outputs": [],
   "source": [
    "data = pd.read_parquet('top_tracks.parquet')\n",
    "tracks_batch = [data.track_id[i:i+100].values for i in range(0, len(data), 100)]\n",
    "audio_features = []\n",
    "headers = get_headers(client_id, client_secret)\n",
    "for i in tracks_batch:\n",
    "    ids = ','.join(i)\n",
    "    url = 'https://api.spotify.com/v1/audio-features/?ids={}'.format(ids)\n",
    "    try:\n",
    "        r = requests.get(url, headers=headers)\n",
    "    except:\n",
    "        print('API호출오류')\n",
    "        sys.exit(1)\n",
    "    raw = json.loads(r.text)\n",
    "    audio_features.extend(raw['audio_features'])"
   ]
  },
  {
   "cell_type": "code",
   "execution_count": 8,
   "id": "c4dd36df",
   "metadata": {},
   "outputs": [
    {
     "data": {
      "text/plain": [
       "{'ResponseMetadata': {'RequestId': 'T169YS97TGXGPN2V',\n",
       "  'HostId': 'l4Pe2HivuA2QZFtLIjIA6ER3wcpF1hLeoI3EGz/0i9OT9qcBq/A4jcXfAYf+WwMPx0vQp+4PS+0=',\n",
       "  'HTTPStatusCode': 200,\n",
       "  'HTTPHeaders': {'x-amz-id-2': 'l4Pe2HivuA2QZFtLIjIA6ER3wcpF1hLeoI3EGz/0i9OT9qcBq/A4jcXfAYf+WwMPx0vQp+4PS+0=',\n",
       "   'x-amz-request-id': 'T169YS97TGXGPN2V',\n",
       "   'date': 'Mon, 01 Nov 2021 05:28:26 GMT',\n",
       "   'etag': '\"53832049aae793eaef823aff9ee56197\"',\n",
       "   'server': 'AmazonS3',\n",
       "   'content-length': '0'},\n",
       "  'RetryAttempts': 0},\n",
       " 'ETag': '\"53832049aae793eaef823aff9ee56197\"'}"
      ]
     },
     "execution_count": 8,
     "metadata": {},
     "output_type": "execute_result"
    }
   ],
   "source": [
    "audio_features = pd.DataFrame(audio_features)\n",
    "audio_features = audio_features.rename(columns={'id':'track_id'})\n",
    "audio_features.to_parquet('audio_features.parquet', engine='pyarrow',\n",
    "                compression='snappy')\n",
    "s3 = boto3.resource('s3', region_name='ap-northeast-2')\n",
    "ob = s3.Object('moon-artist', 'audio_features/dt={}/audio_features.parquet'.format(dt))\n",
    "data = open('audio_features.parquet', 'rb')\n",
    "ob.put(Body=data)"
   ]
  }
 ],
 "metadata": {
  "kernelspec": {
   "display_name": "Python 3",
   "language": "python",
   "name": "python3"
  },
  "language_info": {
   "codemirror_mode": {
    "name": "ipython",
    "version": 3
   },
   "file_extension": ".py",
   "mimetype": "text/x-python",
   "name": "python",
   "nbconvert_exporter": "python",
   "pygments_lexer": "ipython3",
   "version": "3.8.8"
  }
 },
 "nbformat": 4,
 "nbformat_minor": 5
}
