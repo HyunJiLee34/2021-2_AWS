{
 "cells": [
  {
   "cell_type": "code",
   "execution_count": 1,
   "metadata": {},
   "outputs": [
    {
     "name": "stdout",
     "output_type": "stream",
     "text": [
      "Requirement already satisfied: jsonpath in /opt/anaconda3/lib/python3.8/site-packages (0.82)\n",
      "Note: you may need to restart the kernel to use updated packages.\n"
     ]
    }
   ],
   "source": [
    "pip install jsonpath"
   ]
  },
  {
   "cell_type": "code",
   "execution_count": 2,
   "metadata": {},
   "outputs": [],
   "source": [
    "import requests\n",
    "import base64\n",
    "import json\n",
    "import sys\n",
    "import time\n",
    "import pymysql\n",
    "import boto3\n",
    "import jsonpath "
   ]
  },
  {
   "cell_type": "code",
   "execution_count": 9,
   "metadata": {},
   "outputs": [],
   "source": [
    "def get_headers(client_id, client_secret):\n",
    "    endpoint = 'https://accounts.spotify.com/api/token'\n",
    "    encoded = base64.b64encode((client_id+':'+client_secret).encode('utf-8')).decode('ascii')\n",
    "    headers = {'Authorization': 'Basic {auth}'.format(auth=encoded)}\n",
    "    payload = {'grant_type':'client_credentials'}\n",
    "    try:\n",
    "        r = requests.post(endpoint, data=payload, headers=headers)\n",
    "    except:\n",
    "        print('인증오류가 발생되었습니다!')\n",
    "        sys.exit(1)\n",
    "    if r.status_code!=200:\n",
    "        if r.status_code==401:\n",
    "            print('Client_id와 Secret이 잘못되었습니다!')\n",
    "            sys.exit(1)\n",
    "        else:\n",
    "            print('인증오류가 발생되었습니다!:', r.status_code)\n",
    "            sys.exit(1)\n",
    "    acess_token = json.loads(r.text).get('access_token')\n",
    "    headers = {'Authorization': 'Bearer {auth}'.format(auth=acess_token)}\n",
    "    return headers"
   ]
  },
  {
   "cell_type": "code",
   "execution_count": 10,
   "metadata": {},
   "outputs": [],
   "source": [
    "def get_ids():\n",
    "    host = \"hyundb.cqgrmpcsglic.ap-northeast-2.rds.amazonaws.com\"\n",
    "    port = 3306\n",
    "    username = 'hyunjilee'\n",
    "    database = 'production'\n",
    "    pw = ''\n",
    "    conn = pymysql.connect(host=host, user=username, passwd=pw, db=database,\n",
    "                           port=port, use_unicode=True, charset='utf8')\n",
    "    cursor = conn.cursor()\n",
    "    cursor.execute('SELECT artist_id FROM artists')\n",
    "    ids = [i for (i,) in cursor.fetchall()]\n",
    "    conn.commit()\n",
    "    cursor.close()\n",
    "    conn.close()\n",
    "    return ids"
   ]
  },
  {
   "cell_type": "code",
   "execution_count": 12,
   "metadata": {},
   "outputs": [],
   "source": [
    "def top_tracks(m):\n",
    "    headers = get_headers(client_id, client_secret)\n",
    "    params = {'market':'KR'}\n",
    "    top_tracks_keys = {'track_id':['S','id'],\n",
    "                       'track_name':['S','name'],\n",
    "                       'popularity': ['N','popularity'],\n",
    "                       'external_url' : ['S','external_urls.spotify']}\n",
    "    url = 'https://api.spotify.com/v1/artists/{a_id}/top-tracks'.format(a_id=m)\n",
    "    try:\n",
    "        res = requests.get(url, params=params, headers=headers)\n",
    "    except:\n",
    "        print('top-tracks획득에 오류가 발생되었습니다!')\n",
    "        sys.exit(1)\n",
    "    if res.status_code!=200:\n",
    "        if res.status_code==401:\n",
    "            headers = get_headers(client_id, client_secret)\n",
    "            res = requests.get(endpoint, params=params, headers=headers)\n",
    "        elif res.status_code==429:\n",
    "            retry_time = json.loads(res.headers)['Retry-After']\n",
    "            time.sleep(int(retry_time) + 1)\n",
    "            res = requests.get(endpoint, params=params, headers=headers)\n",
    "        else:\n",
    "            print('top-tracks획득에 오류가 발생되었습니다!',res.status_code)\n",
    "            sys.exit(1)\n",
    "    raw = json.loads(res.text)\n",
    "    top_tracks = []\n",
    "    for t in raw['tracks']:\n",
    "        data = {}\n",
    "        data.update({'artist_id':{'S':m}})\n",
    "        for k, v in top_tracks_keys.items():\n",
    "            ct = jsonpath.jsonpath(t, v[1])[0]\n",
    "            if ct==False:\n",
    "                if v[1]=='popularity':\n",
    "                    ct = 0\n",
    "                else:\n",
    "                    ct = 'UNK'\n",
    "            data.update({k: {v[0]:str(ct)}})\n",
    "        top_tracks.append(data)\n",
    "    return top_tracks"
   ]
  },
  {
   "cell_type": "code",
   "execution_count": 16,
   "metadata": {},
   "outputs": [],
   "source": [
    "client_id = '77ba7a249d9940b79c687b05f518ebec'\n",
    "client_secret = ''\n",
    "# my_ids = get_ids()"
   ]
  },
  {
   "cell_type": "code",
   "execution_count": 38,
   "metadata": {},
   "outputs": [
    {
     "name": "stdout",
     "output_type": "stream",
     "text": [
      "{'artist_id': {'S': '7zICaxnDB9ZprDSiFpvbbW'}, 'track_id': {'S': '1Xunvmk47Mju6oZlgzm2Ty'}}\n",
      "{'artist_id': {'S': '7zICaxnDB9ZprDSiFpvbbW'}, 'track_id': {'S': '1Xunvmk47Mju6oZlgzm2Ty'}, 'track_name': {'S': 'Burbons And Lacs'}}\n",
      "{'artist_id': {'S': '7zICaxnDB9ZprDSiFpvbbW'}, 'track_id': {'S': '1Xunvmk47Mju6oZlgzm2Ty'}, 'track_name': {'S': 'Burbons And Lacs'}, 'popularity': {'N': '58'}}\n",
      "{'artist_id': {'S': '7zICaxnDB9ZprDSiFpvbbW'}, 'track_id': {'S': '1Xunvmk47Mju6oZlgzm2Ty'}, 'track_name': {'S': 'Burbons And Lacs'}, 'popularity': {'N': '58'}, 'external_url': {'S': 'https://open.spotify.com/track/1Xunvmk47Mju6oZlgzm2Ty'}}\n",
      "{'artist_id': {'S': '7zICaxnDB9ZprDSiFpvbbW'}, 'track_id': {'S': '0l3wp8iEtN8rgag9eTeorW'}}\n",
      "{'artist_id': {'S': '7zICaxnDB9ZprDSiFpvbbW'}, 'track_id': {'S': '0l3wp8iEtN8rgag9eTeorW'}, 'track_name': {'S': \"Make 'Em Say Ugh\"}}\n",
      "{'artist_id': {'S': '7zICaxnDB9ZprDSiFpvbbW'}, 'track_id': {'S': '0l3wp8iEtN8rgag9eTeorW'}, 'track_name': {'S': \"Make 'Em Say Ugh\"}, 'popularity': {'N': '55'}}\n",
      "{'artist_id': {'S': '7zICaxnDB9ZprDSiFpvbbW'}, 'track_id': {'S': '0l3wp8iEtN8rgag9eTeorW'}, 'track_name': {'S': \"Make 'Em Say Ugh\"}, 'popularity': {'N': '55'}, 'external_url': {'S': 'https://open.spotify.com/track/0l3wp8iEtN8rgag9eTeorW'}}\n",
      "{'artist_id': {'S': '7zICaxnDB9ZprDSiFpvbbW'}, 'track_id': {'S': '4U3JMDnjnUKggATEp7NryT'}}\n",
      "{'artist_id': {'S': '7zICaxnDB9ZprDSiFpvbbW'}, 'track_id': {'S': '4U3JMDnjnUKggATEp7NryT'}, 'track_name': {'S': 'Pass Me Da Green'}}\n",
      "{'artist_id': {'S': '7zICaxnDB9ZprDSiFpvbbW'}, 'track_id': {'S': '4U3JMDnjnUKggATEp7NryT'}, 'track_name': {'S': 'Pass Me Da Green'}, 'popularity': {'N': '54'}}\n",
      "{'artist_id': {'S': '7zICaxnDB9ZprDSiFpvbbW'}, 'track_id': {'S': '4U3JMDnjnUKggATEp7NryT'}, 'track_name': {'S': 'Pass Me Da Green'}, 'popularity': {'N': '54'}, 'external_url': {'S': 'https://open.spotify.com/track/4U3JMDnjnUKggATEp7NryT'}}\n",
      "{'artist_id': {'S': '7zICaxnDB9ZprDSiFpvbbW'}, 'track_id': {'S': '1KLhUURHRl72xGO5A94lme'}}\n",
      "{'artist_id': {'S': '7zICaxnDB9ZprDSiFpvbbW'}, 'track_id': {'S': '1KLhUURHRl72xGO5A94lme'}, 'track_name': {'S': 'How Ya Do Dat'}}\n",
      "{'artist_id': {'S': '7zICaxnDB9ZprDSiFpvbbW'}, 'track_id': {'S': '1KLhUURHRl72xGO5A94lme'}, 'track_name': {'S': 'How Ya Do Dat'}, 'popularity': {'N': '54'}}\n",
      "{'artist_id': {'S': '7zICaxnDB9ZprDSiFpvbbW'}, 'track_id': {'S': '1KLhUURHRl72xGO5A94lme'}, 'track_name': {'S': 'How Ya Do Dat'}, 'popularity': {'N': '54'}, 'external_url': {'S': 'https://open.spotify.com/track/1KLhUURHRl72xGO5A94lme'}}\n",
      "{'artist_id': {'S': '7zICaxnDB9ZprDSiFpvbbW'}, 'track_id': {'S': '2ohf5urBpT8bieYr8kq3kt'}}\n",
      "{'artist_id': {'S': '7zICaxnDB9ZprDSiFpvbbW'}, 'track_id': {'S': '2ohf5urBpT8bieYr8kq3kt'}, 'track_name': {'S': 'Bout It, Bout It II'}}\n",
      "{'artist_id': {'S': '7zICaxnDB9ZprDSiFpvbbW'}, 'track_id': {'S': '2ohf5urBpT8bieYr8kq3kt'}, 'track_name': {'S': 'Bout It, Bout It II'}, 'popularity': {'N': '49'}}\n",
      "{'artist_id': {'S': '7zICaxnDB9ZprDSiFpvbbW'}, 'track_id': {'S': '2ohf5urBpT8bieYr8kq3kt'}, 'track_name': {'S': 'Bout It, Bout It II'}, 'popularity': {'N': '49'}, 'external_url': {'S': 'https://open.spotify.com/track/2ohf5urBpT8bieYr8kq3kt'}}\n",
      "{'artist_id': {'S': '7zICaxnDB9ZprDSiFpvbbW'}, 'track_id': {'S': '53nmK2ARfSnBFvhYXxmgGc'}}\n",
      "{'artist_id': {'S': '7zICaxnDB9ZprDSiFpvbbW'}, 'track_id': {'S': '53nmK2ARfSnBFvhYXxmgGc'}, 'track_name': {'S': 'I Miss My Homies'}}\n",
      "{'artist_id': {'S': '7zICaxnDB9ZprDSiFpvbbW'}, 'track_id': {'S': '53nmK2ARfSnBFvhYXxmgGc'}, 'track_name': {'S': 'I Miss My Homies'}, 'popularity': {'N': '44'}}\n",
      "{'artist_id': {'S': '7zICaxnDB9ZprDSiFpvbbW'}, 'track_id': {'S': '53nmK2ARfSnBFvhYXxmgGc'}, 'track_name': {'S': 'I Miss My Homies'}, 'popularity': {'N': '44'}, 'external_url': {'S': 'https://open.spotify.com/track/53nmK2ARfSnBFvhYXxmgGc'}}\n",
      "{'artist_id': {'S': '7zICaxnDB9ZprDSiFpvbbW'}, 'track_id': {'S': '6utJPGnUAGkW7qRaYpoasi'}}\n",
      "{'artist_id': {'S': '7zICaxnDB9ZprDSiFpvbbW'}, 'track_id': {'S': '6utJPGnUAGkW7qRaYpoasi'}, 'track_name': {'S': 'Mr. Ice Cream Man'}}\n",
      "{'artist_id': {'S': '7zICaxnDB9ZprDSiFpvbbW'}, 'track_id': {'S': '6utJPGnUAGkW7qRaYpoasi'}, 'track_name': {'S': 'Mr. Ice Cream Man'}, 'popularity': {'N': '44'}}\n",
      "{'artist_id': {'S': '7zICaxnDB9ZprDSiFpvbbW'}, 'track_id': {'S': '6utJPGnUAGkW7qRaYpoasi'}, 'track_name': {'S': 'Mr. Ice Cream Man'}, 'popularity': {'N': '44'}, 'external_url': {'S': 'https://open.spotify.com/track/6utJPGnUAGkW7qRaYpoasi'}}\n",
      "{'artist_id': {'S': '7zICaxnDB9ZprDSiFpvbbW'}, 'track_id': {'S': '4h2ivHk1DOadWS1rBpeQAy'}}\n",
      "{'artist_id': {'S': '7zICaxnDB9ZprDSiFpvbbW'}, 'track_id': {'S': '4h2ivHk1DOadWS1rBpeQAy'}, 'track_name': {'S': \"Break 'Em Off Somethin'\"}}\n",
      "{'artist_id': {'S': '7zICaxnDB9ZprDSiFpvbbW'}, 'track_id': {'S': '4h2ivHk1DOadWS1rBpeQAy'}, 'track_name': {'S': \"Break 'Em Off Somethin'\"}, 'popularity': {'N': '42'}}\n",
      "{'artist_id': {'S': '7zICaxnDB9ZprDSiFpvbbW'}, 'track_id': {'S': '4h2ivHk1DOadWS1rBpeQAy'}, 'track_name': {'S': \"Break 'Em Off Somethin'\"}, 'popularity': {'N': '42'}, 'external_url': {'S': 'https://open.spotify.com/track/4h2ivHk1DOadWS1rBpeQAy'}}\n",
      "{'artist_id': {'S': '7zICaxnDB9ZprDSiFpvbbW'}, 'track_id': {'S': '6ckMKV1pNNF5rVemCzD4hP'}}\n",
      "{'artist_id': {'S': '7zICaxnDB9ZprDSiFpvbbW'}, 'track_id': {'S': '6ckMKV1pNNF5rVemCzD4hP'}, 'track_name': {'S': 'Crazy Bout Ya'}}\n",
      "{'artist_id': {'S': '7zICaxnDB9ZprDSiFpvbbW'}, 'track_id': {'S': '6ckMKV1pNNF5rVemCzD4hP'}, 'track_name': {'S': 'Crazy Bout Ya'}, 'popularity': {'N': '42'}}\n",
      "{'artist_id': {'S': '7zICaxnDB9ZprDSiFpvbbW'}, 'track_id': {'S': '6ckMKV1pNNF5rVemCzD4hP'}, 'track_name': {'S': 'Crazy Bout Ya'}, 'popularity': {'N': '42'}, 'external_url': {'S': 'https://open.spotify.com/track/6ckMKV1pNNF5rVemCzD4hP'}}\n",
      "{'artist_id': {'S': '7zICaxnDB9ZprDSiFpvbbW'}, 'track_id': {'S': '2eHwnllIOPBmpgFaoTWzux'}}\n",
      "{'artist_id': {'S': '7zICaxnDB9ZprDSiFpvbbW'}, 'track_id': {'S': '2eHwnllIOPBmpgFaoTWzux'}, 'track_name': {'S': 'Ghetto D'}}\n",
      "{'artist_id': {'S': '7zICaxnDB9ZprDSiFpvbbW'}, 'track_id': {'S': '2eHwnllIOPBmpgFaoTWzux'}, 'track_name': {'S': 'Ghetto D'}, 'popularity': {'N': '41'}}\n",
      "{'artist_id': {'S': '7zICaxnDB9ZprDSiFpvbbW'}, 'track_id': {'S': '2eHwnllIOPBmpgFaoTWzux'}, 'track_name': {'S': 'Ghetto D'}, 'popularity': {'N': '41'}, 'external_url': {'S': 'https://open.spotify.com/track/2eHwnllIOPBmpgFaoTWzux'}}\n"
     ]
    }
   ],
   "source": [
    "headers = get_headers(client_id, client_secret)\n",
    "params = {'market':'KR'}\n",
    "top_tracks_keys = {'track_id':['S','id'],\n",
    "                   'track_name':['S','name'],\n",
    "                   'popularity': ['N','popularity'],\n",
    "                   'external_url' : ['S','external_urls.spotify']}\n",
    "url = 'https://api.spotify.com/v1/artists/{a_id}/top-tracks'.format(a_id=m)\n",
    "try:\n",
    "    res = requests.get(url, params=params, headers=headers)\n",
    "except:\n",
    "    print('top-tracks획득에 오류가 발생되었습니다!')\n",
    "    sys.exit(1)\n",
    "if res.status_code!=200:\n",
    "    if res.status_code==401:\n",
    "        headers = get_headers(client_id, client_secret)\n",
    "        res = requests.get(endpoint, params=params, headers=headers)\n",
    "    elif res.status_code==429:\n",
    "        retry_time = json.loads(res.headers)['Retry-After']\n",
    "        time.sleep(int(retry_time) + 1)\n",
    "        res = requests.get(endpoint, params=params, headers=headers)\n",
    "    else:\n",
    "        print('top-tracks획득에 오류가 발생되었습니다!',res.status_code)\n",
    "        sys.exit(1)\n",
    "raw = json.loads(res.text)\n",
    "top_tracks = []\n",
    "for t in raw['tracks']:\n",
    "    data = {}\n",
    "    data.update({'artist_id':{'S':m}})\n",
    "    for k, v in top_tracks_keys.items():\n",
    "        ct = jsonpath.jsonpath(t, v[1])[0] #t에서 v[1] 에 해당하는 것들을뽑아라\n",
    "        if ct==False:\n",
    "            if v[1]=='popularity':\n",
    "                ct = 0\n",
    "            else:\n",
    "                ct = 'UNK'\n",
    "        data.update({k: {v[0]:str(ct)}})\n",
    "        print(data)\n",
    "    top_tracks.append(data)"
   ]
  },
  {
   "cell_type": "code",
   "execution_count": 15,
   "metadata": {},
   "outputs": [],
   "source": [
    "my_tops = []\n",
    "for m in my_ids:\n",
    "    my_tops.extend(top_tracks(m))\n",
    "    \n",
    "seq = 20 # max=25\n",
    "my_tops = [my_tops[i:i+seq] for i in range(0, len(my_tops), seq)]"
   ]
  },
  {
   "cell_type": "code",
   "execution_count": 8,
   "metadata": {},
   "outputs": [],
   "source": [
    "try:\n",
    "    dynamodb = boto3.client('dynamodb',\n",
    "                             region_name='ap-northeast-2',\n",
    "                             endpoint_url='http://dynamodb.ap-northeast-2.amazonaws.com')\n",
    "except:\n",
    "    print('DynamoDB접속오류!')\n",
    "    sys.exit(1)\n",
    "\n",
    "for my_top in my_tops:\n",
    "    my_res = {'top_tracks': [{'PutRequest': {'Item' : m}} for m in my_top]}\n",
    "    dynamodb.batch_write_item(RequestItems=my_res)\n",
    "    time.sleep(5)"
   ]
  }
 ],
 "metadata": {
  "kernelspec": {
   "display_name": "Python 3",
   "language": "python",
   "name": "python3"
  },
  "language_info": {
   "codemirror_mode": {
    "name": "ipython",
    "version": 3
   },
   "file_extension": ".py",
   "mimetype": "text/x-python",
   "name": "python",
   "nbconvert_exporter": "python",
   "pygments_lexer": "ipython3",
   "version": "3.8.8"
  }
 },
 "nbformat": 4,
 "nbformat_minor": 4
}
