{
 "cells": [
  {
   "cell_type": "code",
   "execution_count": 1,
   "id": "034d3556",
   "metadata": {},
   "outputs": [],
   "source": [
    "import requests\n",
    "import base64\n",
    "import json\n",
    "import sys\n",
    "import time\n",
    "import pymysql"
   ]
  },
  {
   "cell_type": "code",
   "execution_count": 2,
   "id": "f41da491",
   "metadata": {},
   "outputs": [],
   "source": [
    "def get_headers(client_id, client_secret):\n",
    "    endpoint = 'https://accounts.spotify.com/api/token'\n",
    "    encoded = base64.b64encode((client_id+':'+client_secret).encode('utf-8')).decode('ascii')\n",
    "    headers = {'Authorization': 'Basic {auth}'.format(auth=encoded)}\n",
    "    payload = {'grant_type':'client_credentials'}\n",
    "    try:\n",
    "        r = requests.post(endpoint, data=payload, headers=headers)\n",
    "    except:\n",
    "        print('인증오류가 발생되었습니다!')\n",
    "        sys.exit(1)\n",
    "    if r.status_code!=200:\n",
    "        if r.status_code==401:\n",
    "            print('Client_id와 Secret이 잘못되었습니다!')\n",
    "            sys.exit(1)\n",
    "        else:\n",
    "            print('인증오류가 발생되었습니다!:', r.status_code)\n",
    "            sys.exit(1)\n",
    "    acess_token = json.loads(r.text).get('access_token')\n",
    "    headers = {'Authorization': 'Bearer {auth}'.format(auth=acess_token)}\n",
    "    return headers"
   ]
  },
  {
   "cell_type": "code",
   "execution_count": 3,
   "id": "4fa15171",
   "metadata": {},
   "outputs": [],
   "source": [
    "def id_getter(que):\n",
    "    endpoint = 'https://api.spotify.com/v1/search'\n",
    "    headers = get_headers(client_id, client_secret)\n",
    "    params = {'q': que,\n",
    "              'type':'artist',\n",
    "              'market':'KR',\n",
    "              'limit':1}\n",
    "    try:\n",
    "        r = requests.get(endpoint, params=params, headers=headers)\n",
    "    except:\n",
    "        print('ID획득에 오류가 발생되었습니다!')\n",
    "        sys.exit(1)\n",
    "    if r.status_code!=200:\n",
    "        if r.status_code==401:\n",
    "            headers = get_headers(client_id, client_secret)\n",
    "            r = requests.get(endpoint, params=params, headers=headers)\n",
    "        elif r.status_code==429:\n",
    "            retry_time = json.loads(r.headers)['Retry-After']\n",
    "            time.sleep(int(retry_time) + 1)\n",
    "            r = requests.get(endpoint, params=params, headers=headers)\n",
    "        else:\n",
    "            print('ID획득에 오류가 발생되었습니다!',r.status_code)\n",
    "            sys.exit(1)\n",
    "    return json.loads(r.text).get('artists').get('items')[0].get('id')"
   ]
  },
  {
   "cell_type": "code",
   "execution_count": 4,
   "id": "093a4a45",
   "metadata": {},
   "outputs": [],
   "source": [
    "client_id = '77ba7a249d9940b79c687b05f518ebec'\n",
    "client_secret = ''\n",
    "que = 'BTS'"
   ]
  },
  {
   "cell_type": "code",
   "execution_count": 5,
   "id": "f315fba7",
   "metadata": {},
   "outputs": [],
   "source": [
    "def artist_info(client_id, client_secret, que):\n",
    "    try:\n",
    "        artist_id = id_getter(que)\n",
    "    except:\n",
    "        print('ID획득에 오류가 발생되었습니다.')\n",
    "        sys.exit(1)\n",
    "    endpoint = 'https://api.spotify.com/v1/artists/{id}'.format(id=artist_id)\n",
    "    headers = get_headers(client_id, client_secret)\n",
    "    try:\n",
    "        r = requests.get(endpoint, headers=headers)\n",
    "    except:\n",
    "        print('Artist정보 획득에 오류가 발생되었습니다.')\n",
    "        sys.exit(1)\n",
    "    if r.status_code!=200:\n",
    "        if r.status_code==401:\n",
    "            headers = get_headers(client_id, client_secret)\n",
    "            r = requests.get(endpoint, params=params, headers=headers)\n",
    "        elif r.status_code==429:\n",
    "            retry_time = json.loads(r.headers)['Retry-After']\n",
    "            time.sleep(int(retry_time) + 1)\n",
    "            r = requests.get(endpoint, params=params, headers=headers)\n",
    "        else:\n",
    "            print('Artist정보에 오류가 발생되었습니다!',r.status_code)\n",
    "            sys.exit(1)\n",
    "    raw = json.loads(r.text)\n",
    "    artist_dict = {}\n",
    "    try:\n",
    "        artist_dict['artist_id'] = raw['id']\n",
    "    except:\n",
    "        print('ArtistID가 없습니다!')\n",
    "        sys.exit(1)\n",
    "    artist_dict['name'] = raw.get('name','UNK')\n",
    "    artist_dict['followers'] = raw.get('followers').get('total',0)\n",
    "    artist_dict['popularity'] = raw.get('popularity',0)\n",
    "    artist_dict['url'] = raw.get('external_urls').get('spotify','UNK')\n",
    "    artist_dict['image_url'] = raw.get('images')[0].get('url','UNK')\n",
    "    artist_genre = raw.get('genres')\n",
    "    return (artist_dict, artist_genre)"
   ]
  },
  {
   "cell_type": "code",
   "execution_count": 8,
   "id": "8839f17c",
   "metadata": {},
   "outputs": [],
   "source": [
    "a_info=artist_info(client_id, client_secret, que)"
   ]
  },
  {
   "cell_type": "code",
   "execution_count": 11,
   "id": "5885192e",
   "metadata": {
    "scrolled": true
   },
   "outputs": [
    {
     "name": "stdout",
     "output_type": "stream",
     "text": [
      "({'artist_id': '3Nrfpe0tUJi4K4DXYWgMUX', 'name': 'BTS', 'followers': 42241569, 'popularity': 95, 'url': 'https://open.spotify.com/artist/3Nrfpe0tUJi4K4DXYWgMUX', 'image_url': 'https://i.scdn.co/image/ab6761610000e5eb82a5d58059f81867b871d8b6'}, ['k-pop', 'k-pop boy group'])\n",
      "{'artist_id': '3Nrfpe0tUJi4K4DXYWgMUX', 'name': 'BTS', 'followers': 42241569, 'popularity': 95, 'url': 'https://open.spotify.com/artist/3Nrfpe0tUJi4K4DXYWgMUX', 'image_url': 'https://i.scdn.co/image/ab6761610000e5eb82a5d58059f81867b871d8b6'}\n",
      "['k-pop', 'k-pop boy group']\n"
     ]
    }
   ],
   "source": [
    "print(a_info) #artist_dict 와 artist_genre가 합쳐짐\n",
    "print(a_info[0])\n",
    "print(a_info[1])"
   ]
  },
  {
   "cell_type": "code",
   "execution_count": 15,
   "id": "9d49efc2",
   "metadata": {},
   "outputs": [
    {
     "data": {
      "text/plain": [
       "6"
      ]
     },
     "execution_count": 15,
     "metadata": {},
     "output_type": "execute_result"
    }
   ],
   "source": [
    "# INSERT INTO 테이블명(열이름, ...) VALUES (값,,,) ON DUPLICATE KEY UPDATE (열이름= 값, 열이름 =값)\n",
    "#위와 같은 형식으로 넣어줌\n",
    "len(a_info[0])"
   ]
  },
  {
   "cell_type": "code",
   "execution_count": 19,
   "id": "ff21463a",
   "metadata": {},
   "outputs": [],
   "source": [
    "data = a_info[0]\n",
    "data.keys()\n",
    "# #딕셔너리의 키들만 잡힘['artist_id', 'name', 'followers', 'popularity', 'url', 'image_url']\n",
    "col = ', '.join(data.keys()) #,로 붙이기\n",
    "len(data) # values(값,,,)에 넣아야할때 %s가 a_info[0]의 갯수만큼 들어와야함 \n",
    "place_holders =', '.join(['%s'] *len(data))\n",
    "table = 'artists'\n",
    "place_holders = ', '.join(['%s']*len(data))\n",
    "key_holders = ', '.join([k+'=%s' for k in data.keys()])"
   ]
  },
  {
   "cell_type": "code",
   "execution_count": 18,
   "id": "2dc17ff3",
   "metadata": {},
   "outputs": [
    {
     "ename": "IndentationError",
     "evalue": "unexpected indent (<ipython-input-18-535018fa9b60>, line 2)",
     "output_type": "error",
     "traceback": [
      "\u001b[0;36m  File \u001b[0;32m\"<ipython-input-18-535018fa9b60>\"\u001b[0;36m, line \u001b[0;32m2\u001b[0m\n\u001b[0;31m    col = ', '.join(data.keys())\u001b[0m\n\u001b[0m    ^\u001b[0m\n\u001b[0;31mIndentationError\u001b[0m\u001b[0;31m:\u001b[0m unexpected indent\n"
     ]
    }
   ],
   "source": [
    "#DB에 넣는 코드(query)를 만듬\n",
    "def insert_row(cursor, data, table):\n",
    "    col = ', '.join(data.keys())\n",
    "    place_holders = ', '.join(['%s']*len(data))\n",
    "    key_holders = ', '.join([k+'=%s' for k in data.keys()])\n",
    "    que = 'INSERT INTO {} ({}) VALUES ({}) ON DUPLICATE KEY UPDATE {}'.format(table, col, place_holders, key_holders)#이걸쿼리문으로 날려줘야함\n",
    "    cursor.execute(que, list(data.values())* 2) #쿼리를 날려주세요 #%s가 두쌍있으니 *2"
   ]
  },
  {
   "cell_type": "code",
   "execution_count": 20,
   "id": "4febc6fe",
   "metadata": {
    "scrolled": false
   },
   "outputs": [
    {
     "data": {
      "text/plain": [
       "'INSERT INTO artists (artist_id, name, followers, popularity, url, image_url) VALUES (%s, %s, %s, %s, %s, %s) ON DUPLICATE KEY UPDATE artist_id=%s, name=%s, followers=%s, popularity=%s, url=%s, image_url=%s'"
      ]
     },
     "execution_count": 20,
     "metadata": {},
     "output_type": "execute_result"
    }
   ],
   "source": [
    "# %s에 들어가는건 data.values()이다.\n",
    "'INSERT INTO {} ({}) VALUES ({}) ON DUPLICATE KEY UPDATE {}'.format(table, col, place_holders, key_holders)"
   ]
  },
  {
   "cell_type": "code",
   "execution_count": 21,
   "id": "799b66a5",
   "metadata": {},
   "outputs": [
    {
     "data": {
      "text/plain": [
       "502"
      ]
     },
     "execution_count": 21,
     "metadata": {},
     "output_type": "execute_result"
    }
   ],
   "source": [
    "client_id = '77ba7a249d9940b79c687b05f518ebec'\n",
    "client_secret = ''\n",
    "\n",
    "#db접속하기\n",
    "# pymysql을 쓰려면 db를 열어야한다\n",
    "def main():\n",
    "    host = \"hyundb.cqgrmpcsglic.ap-northeast-2.rds.amazonaws.com\"\n",
    "    port = 3306\n",
    "    username = 'hyunjilee'\n",
    "    database = 'production'\n",
    "    pw = '!'\n",
    "    #db접속 커넥션\n",
    "    conn = pymysql.connect(host=host, user=username, passwd=pw, db=database,\n",
    "                               port=port, use_unicode=True, charset='utf8')\n",
    "    cursor = conn.cursor() #db열림\n",
    "    que = 'BTS'\n",
    "    artists = artist_info(client_id, client_secret, que)\n",
    "    data = artists[0]\n",
    "    insert_row(cursor, data, 'artists') #테이블에 업데이트\n",
    "    cursor.fetchall()\n",
    "    ##DB접속끝##\n",
    "    conn.commit()\n",
    "    cursor.close()\n",
    "    cursor.execute('SELECT * FROM artists') #쿼리날리기\n",
    "\n"
   ]
  },
  {
   "cell_type": "code",
   "execution_count": null,
   "id": "54537279",
   "metadata": {},
   "outputs": [],
   "source": []
  }
 ],
 "metadata": {
  "kernelspec": {
   "display_name": "Python 3",
   "language": "python",
   "name": "python3"
  },
  "language_info": {
   "codemirror_mode": {
    "name": "ipython",
    "version": 3
   },
   "file_extension": ".py",
   "mimetype": "text/x-python",
   "name": "python",
   "nbconvert_exporter": "python",
   "pygments_lexer": "ipython3",
   "version": "3.8.8"
  }
 },
 "nbformat": 4,
 "nbformat_minor": 5
}
