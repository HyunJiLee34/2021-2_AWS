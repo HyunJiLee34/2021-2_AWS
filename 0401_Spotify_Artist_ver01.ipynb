{
 "cells": [
  {
   "cell_type": "code",
   "execution_count": 2,
   "id": "d662dc0f",
   "metadata": {},
   "outputs": [],
   "source": [
    "import requests\n",
    "import base64\n",
    "import json"
   ]
  },
  {
   "cell_type": "code",
   "execution_count": 24,
   "id": "3a748e5f",
   "metadata": {},
   "outputs": [],
   "source": [
    "def get_headers(client_id, client_secret):\n",
    "    endpoint = 'https://accounts.spotify.com/api/token'\n",
    "    encoded = base64.b64encode((client_id+':'+client_secret).encode('utf-8')).decode('ascii')\n",
    "    headers = {'Authorization': 'Basic {auth}'.format(auth=encoded)}\n",
    "    payload = {'grant_type':'client_credentials'}\n",
    "    r = requests.post(endpoint, data=payload, headers=headers)\n",
    "    acess_token = json.loads(r.text).get('access_token')\n",
    "    headers = {'Authorization': 'Bearer {auth}'.format(auth=acess_token)}\n",
    "    return headers"
   ]
  },
  {
   "cell_type": "code",
   "execution_count": 36,
   "id": "6b90c9d0",
   "metadata": {},
   "outputs": [],
   "source": [
    "def main():\n",
    "    client_id = '77ba7a249d9940b79c687b05f518ebec'\n",
    "    client_secret = ''\n",
    "    endpoint = 'https://api.spotify.com/v1/search'\n",
    "    headers = get_headers(client_id, client_secret)\n",
    "    params = {'q':'BTS',\n",
    "              'type':'artist',\n",
    "              'market':'KR',\n",
    "              'limit':5}\n",
    "    r = requests.get(endpoint, params=params, headers=headers)\n",
    "    print(r.status_code)\n",
    "    print(json.loads(r.text)['artists']['items'][0])"
   ]
  },
  {
   "cell_type": "code",
   "execution_count": 37,
   "id": "b6b8dfa8",
   "metadata": {},
   "outputs": [
    {
     "name": "stdout",
     "output_type": "stream",
     "text": [
      "200\n",
      "{'external_urls': {'spotify': 'https://open.spotify.com/artist/3Nrfpe0tUJi4K4DXYWgMUX'}, 'followers': {'href': None, 'total': 38914949}, 'genres': ['k-pop', 'k-pop boy group'], 'href': 'https://api.spotify.com/v1/artists/3Nrfpe0tUJi4K4DXYWgMUX', 'id': '3Nrfpe0tUJi4K4DXYWgMUX', 'images': [{'height': 640, 'url': 'https://i.scdn.co/image/ab6761610000e5eb82a5d58059f81867b871d8b6', 'width': 640}, {'height': 320, 'url': 'https://i.scdn.co/image/ab6761610000517482a5d58059f81867b871d8b6', 'width': 320}, {'height': 160, 'url': 'https://i.scdn.co/image/ab6761610000f17882a5d58059f81867b871d8b6', 'width': 160}], 'name': 'BTS', 'popularity': 94, 'type': 'artist', 'uri': 'spotify:artist:3Nrfpe0tUJi4K4DXYWgMUX'}\n"
     ]
    }
   ],
   "source": [
    "if __name__=='__main__':\n",
    "    main()"
   ]
  }
 ],
 "metadata": {
  "kernelspec": {
   "display_name": "Python 3",
   "language": "python",
   "name": "python3"
  },
  "language_info": {
   "codemirror_mode": {
    "name": "ipython",
    "version": 3
   },
   "file_extension": ".py",
   "mimetype": "text/x-python",
   "name": "python",
   "nbconvert_exporter": "python",
   "pygments_lexer": "ipython3",
   "version": "3.8.8"
  }
 },
 "nbformat": 4,
 "nbformat_minor": 5
}
