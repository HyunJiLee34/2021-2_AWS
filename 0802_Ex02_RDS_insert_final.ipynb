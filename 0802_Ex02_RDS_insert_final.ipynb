{
 "cells": [
  {
   "cell_type": "code",
   "execution_count": null,
   "id": "a608e05a",
   "metadata": {},
   "outputs": [],
   "source": [
    "import pymysql\n",
    "import pandas as pd\n",
    "import boto3\n",
    "from datetime import datetime"
   ]
  },
  {
   "cell_type": "code",
   "execution_count": null,
   "id": "7c20f76a",
   "metadata": {},
   "outputs": [],
   "source": [
    "def main():\n",
    "    host = \"hyundb.cqgrmpcsglic.ap-northeast-2.rds.amazonaws.com\"\n",
    "    port = 3306\n",
    "    username = 'hyunjilee'\n",
    "    database = 'production'\n",
    "    pw = ''\n",
    "\n",
    "    conn = pymysql.connect(host=host, user=username, passwd=pw,\n",
    "                          db=database, port=port,\n",
    "                          use_unicode=True, charset='utf8')\n",
    "    cursor = conn.cursor()\n",
    "    cursor.execute('SELECT * FROM artists')\n",
    "    a_data = cursor.fetchall()\n",
    "    col = [d[0] for d in cursor.description]\n",
    "    data = pd.DataFrame(a_data, columns=col)\n",
    "    data.to_parquet('artists.parquet', engine='pyarrow',\n",
    "                compression='snappy')\n",
    "    dt = datetime.utcnow().strftime('%Y-%m-%d')\n",
    "    s3 = boto3.resource('s3', region_name='ap-northeast-2')\n",
    "    ob = s3.Object('hyun-artist', 'artists/dt={}/artists.parquet'.format(dt))\n",
    "    data = open('artists.parquet', 'rb')\n",
    "    ob.put(Body=data)"
   ]
  },
  {
   "cell_type": "code",
   "execution_count": null,
   "id": "45a079f1",
   "metadata": {},
   "outputs": [],
   "source": [
    "if __name__ == '__main__':\n",
    "    main()"
   ]
  }
 ],
 "metadata": {
  "kernelspec": {
   "display_name": "Python 3",
   "language": "python",
   "name": "python3"
  },
  "language_info": {
   "codemirror_mode": {
    "name": "ipython",
    "version": 3
   },
   "file_extension": ".py",
   "mimetype": "text/x-python",
   "name": "python",
   "nbconvert_exporter": "python",
   "pygments_lexer": "ipython3",
   "version": "3.8.8"
  }
 },
 "nbformat": 4,
 "nbformat_minor": 5
}
