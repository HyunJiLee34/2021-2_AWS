{
 "cells": [
  {
   "cell_type": "code",
   "execution_count": 1,
   "id": "a608e05a",
   "metadata": {},
   "outputs": [],
   "source": [
    "import pymysql\n",
    "import pandas as pd\n",
    "import boto3"
   ]
  },
  {
   "cell_type": "code",
   "execution_count": 2,
   "id": "7c20f76a",
   "metadata": {},
   "outputs": [],
   "source": [
    "host = \"hyundb.cqgrmpcsglic.ap-northeast-2.rds.amazonaws.com\"\n",
    "port = 3306\n",
    "username = 'hyunjilee'\n",
    "database = 'production'\n",
    "pw = ''\n",
    "\n",
    "conn = pymysql.connect(host=host, user=username, passwd=pw,\n",
    "                      db=database, port=port,\n",
    "                      use_unicode=True, charset='utf8')\n",
    "cursor = conn.cursor()"
   ]
  },
  {
   "cell_type": "code",
   "execution_count": 3,
   "id": "6c500849",
   "metadata": {},
   "outputs": [],
   "source": [
    "cursor.execute('SELECT * FROM artists')\n",
    "a_data = cursor.fetchall()\n",
    "col = [d[0] for d in cursor.description]\n",
    "#cursor.execute('SELECT column_name FROM INFORMATION_SCHEMA.COLUMNS WHERE TABLE_NAME = \"artists\"')\n",
    "#col = cursor.fetchall()\n",
    "#col = [i[0] for i in col]"
   ]
  },
  {
   "cell_type": "code",
   "execution_count": 14,
   "id": "a1581cc4",
   "metadata": {},
   "outputs": [
    {
     "name": "stdout",
     "output_type": "stream",
     "text": [
      "<class 'pandas.core.frame.DataFrame'>\n",
      "RangeIndex: 502 entries, 0 to 501\n",
      "Data columns (total 6 columns):\n",
      " #   Column      Non-Null Count  Dtype \n",
      "---  ------      --------------  ----- \n",
      " 0   artist_id   502 non-null    object\n",
      " 1   name        502 non-null    object\n",
      " 2   followers   502 non-null    int64 \n",
      " 3   popularity  502 non-null    int64 \n",
      " 4   url         502 non-null    object\n",
      " 5   image_url   502 non-null    object\n",
      "dtypes: int64(2), object(4)\n",
      "memory usage: 23.7+ KB\n"
     ]
    }
   ],
   "source": [
    "data = pd.DataFrame(a_data, columns=col)\n",
    "data.info()"
   ]
  },
  {
   "cell_type": "code",
   "execution_count": 17,
   "id": "f2737096",
   "metadata": {},
   "outputs": [
    {
     "data": {
      "text/plain": [
       "{'ResponseMetadata': {'RequestId': '4HK8QFRQK4GC5Z9A',\n",
       "  'HostId': '02kd5Tp7eppUMDS2MaCqsqdW/7D68Z3IIJB6D5G76zOULXyomuctkDNKddf2bsRlXj5H7kfudw0=',\n",
       "  'HTTPStatusCode': 200,\n",
       "  'HTTPHeaders': {'x-amz-id-2': '02kd5Tp7eppUMDS2MaCqsqdW/7D68Z3IIJB6D5G76zOULXyomuctkDNKddf2bsRlXj5H7kfudw0=',\n",
       "   'x-amz-request-id': '4HK8QFRQK4GC5Z9A',\n",
       "   'date': 'Sun, 14 Nov 2021 22:58:36 GMT',\n",
       "   'etag': '\"278133b9a186181c9697b28a1a767631\"',\n",
       "   'server': 'AmazonS3',\n",
       "   'content-length': '0'},\n",
       "  'RetryAttempts': 0},\n",
       " 'ETag': '\"278133b9a186181c9697b28a1a767631\"'}"
      ]
     },
     "execution_count": 17,
     "metadata": {},
     "output_type": "execute_result"
    }
   ],
   "source": [
    "data.to_parquet('artists.parquet', engine='pyarrow',\n",
    "                compression='snappy')\n",
    "#dt = datetime.utcnow().strftime('%Y-%m-%d')\n",
    "dt = '2021-11-01'\n",
    "s3 = boto3.resource('s3', region_name='ap-northeast-2')\n",
    "ob = s3.Object('hyun-artist', 'artists/dt={}/artists.parquet'.format(dt))\n",
    "data = open('artists.parquet', 'rb')\n",
    "ob.put(Body=data)"
   ]
  }
 ],
 "metadata": {
  "kernelspec": {
   "display_name": "Python 3",
   "language": "python",
   "name": "python3"
  },
  "language_info": {
   "codemirror_mode": {
    "name": "ipython",
    "version": 3
   },
   "file_extension": ".py",
   "mimetype": "text/x-python",
   "name": "python",
   "nbconvert_exporter": "python",
   "pygments_lexer": "ipython3",
   "version": "3.8.8"
  }
 },
 "nbformat": 4,
 "nbformat_minor": 5
}
