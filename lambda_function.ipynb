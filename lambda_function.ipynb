{
 "cells": [
  {
   "cell_type": "code",
   "execution_count": 1,
   "id": "cfbad7cd",
   "metadata": {},
   "outputs": [],
   "source": [
    "import sys\n",
    "sys.path.append('./libs')\n",
    "import os\n",
    "import json\n",
    "import boto3\n",
    "import base64\n",
    "\n",
    "import requests"
   ]
  },
  {
   "cell_type": "code",
   "execution_count": 2,
   "id": "f51b4a1c",
   "metadata": {},
   "outputs": [],
   "source": [
    "client_id = '9e22029795364c83be0d5c1c8ea99657'\n",
    "client_secret = ''"
   ]
  },
  {
   "cell_type": "code",
   "execution_count": 3,
   "id": "63169795",
   "metadata": {},
   "outputs": [],
   "source": [
    "def get_headers(client_id, client_secret):\n",
    "    encoded = base64.b64encode(('{}:{}'.format(client_id, client_secret)).encode('utf-8')).decode('ascii')\n",
    "    headers = {'Authorization' : 'Basic {}'.format(encoded)}\n",
    "    body_param = {'grant_type':'client_credentials'}\n",
    "    endpoint = 'https://accounts.spotify.com/api/token'\n",
    "    r = requests.post(endpoint, data=body_param, headers=headers)\n",
    "    access_token = '{} {}'.format(json.loads(r.text)['token_type'], json.loads(r.text)['access_token'])\n",
    "    headers = {'Authorization':access_token}\n",
    "    return headers"
   ]
  },
  {
   "cell_type": "code",
   "execution_count": 8,
   "id": "5bbd7574",
   "metadata": {},
   "outputs": [],
   "source": [
    "def lambda_handler(event, context):\n",
    "    try:\n",
    "        dynamodb = boto3.resource('dynamodb', region_name='ap-northeast-2',\n",
    "                                  endpoint_url='http://dynamodb.ap-northeast-2.amazonaws.com',\n",
    "                                  aws_access_key_id='액세스키',\n",
    "                                  aws_secret_access_key='액세스비밀번호')\n",
    "    except:\n",
    "        print('DynamoDB접속오류!')\n",
    "        sys.exit(1)\n",
    "    headers = get_headers(client_id, client_secret)\n",
    "    table = dynamodb.Table('top_tracks')\n",
    "    #artist_id = '1dfeR4HaWDbWqFHLkxsg1d'\n",
    "    artist_id = event['artist_id']\n",
    "    params = {'market':'KR'}\n",
    "    url = 'https://api.spotify.com/v1/artists/{a_id}/top-tracks'.format(a_id=artist_id)\n",
    "    res = requests.get(url, params=params, headers=headers)\n",
    "    raw = json.loads(res.text)\n",
    "    for t in raw['tracks']:\n",
    "        data = {'artist_id':artist_id, 'track_id':t.get('id')}\n",
    "        data.update(t.get('album'))\n",
    "        table.put_item(Item=data)\n",
    "    return 'SUCESS'"
   ]
  }
 ],
 "metadata": {
  "kernelspec": {
   "display_name": "Python 3",
   "language": "python",
   "name": "python3"
  },
  "language_info": {
   "codemirror_mode": {
    "name": "ipython",
    "version": 3
   },
   "file_extension": ".py",
   "mimetype": "text/x-python",
   "name": "python",
   "nbconvert_exporter": "python",
   "pygments_lexer": "ipython3",
   "version": "3.8.8"
  }
 },
 "nbformat": 4,
 "nbformat_minor": 5
}
