{
 "cells": [
  {
   "cell_type": "code",
   "execution_count": null,
   "id": "4f182963",
   "metadata": {},
   "outputs": [],
   "source": [
    "import sys\n",
    "import boto3\n",
    "import pandas as pd\n",
    "import base64\n",
    "import requests\n",
    "import json\n",
    "from datetime import datetime"
   ]
  },
  {
   "cell_type": "code",
   "execution_count": null,
   "id": "756d7204",
   "metadata": {},
   "outputs": [],
   "source": [
    "def get_headers(client_id, client_secret):\n",
    "    endpoint = 'https://accounts.spotify.com/api/token'\n",
    "    encoded = base64.b64encode((client_id+':'+client_secret).encode('utf-8')).decode('ascii')\n",
    "    headers = {'Authorization': 'Basic {auth}'.format(auth=encoded)}\n",
    "    payload = {'grant_type':'client_credentials'}\n",
    "    try:\n",
    "        r = requests.post(endpoint, data=payload, headers=headers)\n",
    "    except:\n",
    "        print('인증오류가 발생되었습니다!')\n",
    "        sys.exit(1)\n",
    "    if r.status_code!=200:\n",
    "        if r.status_code==401:\n",
    "            print('Client_id와 Secret이 잘못되었습니다!')\n",
    "            sys.exit(1)\n",
    "        else:\n",
    "            print('인증오류가 발생되었습니다!:', r.status_code)\n",
    "            sys.exit(1)\n",
    "    acess_token = json.loads(r.text).get('access_token')\n",
    "    headers = {'Authorization': 'Bearer {auth}'.format(auth=acess_token)}\n",
    "    return headers"
   ]
  },
  {
   "cell_type": "code",
   "execution_count": null,
   "id": "bfd3bd1c",
   "metadata": {},
   "outputs": [],
   "source": [
    "def main():\n",
    "    try:\n",
    "        dynamodb = boto3.resource('dynamodb',\n",
    "                                 region_name='ap-northeast-2',\n",
    "                                 endpoint_url='http://dynamodb.ap-northeast-2.amazonaws.com')\n",
    "    except:\n",
    "        print('DynamoDB접속오류!')\n",
    "        sys.exit(1)\n",
    "\n",
    "    table = dynamodb.Table('top_tracks')\n",
    "\n",
    "    response = table.scan()\n",
    "    response = response['Items']\n",
    "    data = pd.DataFrame(response)\n",
    "    data = data[['artist_id','track_id','track_name','popularity','external_url']]\n",
    "    tracks_batch = [data.track_id[i:i+100].values for i in range(0, len(data), 100)]\n",
    "    audio_features = []\n",
    "    headers = get_headers(client_id, client_secret)\n",
    "    for i in tracks_batch:\n",
    "        ids = ','.join(i)\n",
    "        url = 'https://api.spotify.com/v1/audio-features/?ids={}'.format(ids)\n",
    "        try:\n",
    "            r = requests.get(url, headers=headers)\n",
    "        except:\n",
    "            print('API호출오류')\n",
    "            sys.exit(1)\n",
    "        raw = json.loads(r.text)\n",
    "        audio_features.extend(raw['audio_features'])\n",
    "        \n",
    "    audio_features = [i for i in audio_features if i is not None]\n",
    "    audio_features = pd.DataFrame(audio_features)\n",
    "    audio_features = audio_features.rename(columns={'id':'track_id'})\n",
    "    audio_features.to_parquet('audio_features.parquet', engine='pyarrow',\n",
    "                    compression='snappy')\n",
    "    dt = datetime.utcnow().strftime('%Y-%m-%d')\n",
    "    s3 = boto3.resource('s3', region_name='ap-northeast-2')\n",
    "    ob = s3.Object('hyun-artist', 'audio_features/dt={}/audio_features.parquet'.format(dt))\n",
    "    data = open('audio_features.parquet', 'rb')\n",
    "    ob.put(Body=data)"
   ]
  },
  {
   "cell_type": "code",
   "execution_count": null,
   "id": "b886cad0",
   "metadata": {},
   "outputs": [],
   "source": [
    "main()"
   ]
  },
  {
   "cell_type": "code",
   "execution_count": null,
   "id": "e20450ec",
   "metadata": {},
   "outputs": [],
   "source": [
    "if __name__ == '__main__':\n",
    "    client_id = '9e22029795364c83be0d5c1c8ea99657'\n",
    "    client_secret = ''\n",
    "    main()"
   ]
  }
 ],
 "metadata": {
  "kernelspec": {
   "display_name": "Python 3",
   "language": "python",
   "name": "python3"
  },
  "language_info": {
   "codemirror_mode": {
    "name": "ipython",
    "version": 3
   },
   "file_extension": ".py",
   "mimetype": "text/x-python",
   "name": "python",
   "nbconvert_exporter": "python",
   "pygments_lexer": "ipython3",
   "version": "3.8.8"
  }
 },
 "nbformat": 4,
 "nbformat_minor": 5
}
