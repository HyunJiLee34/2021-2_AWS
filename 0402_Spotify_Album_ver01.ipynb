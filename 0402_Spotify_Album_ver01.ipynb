{
 "cells": [
  {
   "cell_type": "code",
   "execution_count": 1,
   "id": "034d3556",
   "metadata": {},
   "outputs": [],
   "source": [
    "import requests\n",
    "import base64\n",
    "import json"
   ]
  },
  {
   "cell_type": "code",
   "execution_count": 2,
   "id": "f41da491",
   "metadata": {},
   "outputs": [],
   "source": [
    "def get_headers(client_id, client_secret):\n",
    "    endpoint = 'https://accounts.spotify.com/api/token'\n",
    "    encoded = base64.b64encode((client_id+':'+client_secret).encode('utf-8')).decode('ascii')\n",
    "    headers = {'Authorization': 'Basic {auth}'.format(auth=encoded)}\n",
    "    payload = {'grant_type':'client_credentials'}\n",
    "    r = requests.post(endpoint, data=payload, headers=headers)\n",
    "    acess_token = json.loads(r.text).get('access_token')\n",
    "    headers = {'Authorization': 'Bearer {auth}'.format(auth=acess_token)}\n",
    "    return headers"
   ]
  },
  {
   "cell_type": "code",
   "execution_count": 9,
   "id": "06c7f808",
   "metadata": {},
   "outputs": [],
   "source": [
    "def id_getter(que):\n",
    "    endpoint = 'https://api.spotify.com/v1/search'\n",
    "    headers = get_headers(client_id, client_secret)\n",
    "    params = {'q': que,\n",
    "              'type':'artist',\n",
    "              'market':'KR',\n",
    "              'limit':1}\n",
    "    r = requests.get(endpoint, params=params, headers=headers)\n",
    "    return json.loads(r.text).get('artists').get('items')[0].get('id')"
   ]
  },
  {
   "cell_type": "code",
   "execution_count": 30,
   "id": "9f9fac67",
   "metadata": {},
   "outputs": [],
   "source": [
    "def main():\n",
    "    artist_id = id_getter(que)\n",
    "    endpoint = ' https://api.spotify.com/v1/artists/{a_id}/albums'.format(a_id=artist_id)\n",
    "    headers = get_headers(client_id, client_secret)\n",
    "    r = requests.get(endpoint, headers=headers)\n",
    "    raw = json.loads(r.text)\n",
    "    albums = []\n",
    "    albums.extend(raw.get('items'))\n",
    "    next_page = raw.get('next')\n",
    "\n",
    "    while next_page:\n",
    "        r = requests.get(next_page, headers=headers)\n",
    "        raw = json.loads(r.text)\n",
    "        albums.extend(raw.get('items'))\n",
    "        next_page = raw.get('next')\n",
    "    print(len(albums), '개의 앨범을 로딩하였습니다!')"
   ]
  },
  {
   "cell_type": "code",
   "execution_count": 33,
   "id": "1db1b9b5",
   "metadata": {},
   "outputs": [
    {
     "name": "stdout",
     "output_type": "stream",
     "text": [
      "136 개의 앨범을 로딩하였습니다!\n"
     ]
    }
   ],
   "source": [
    "if __name__ == '__main__':\n",
    "    client_id = '2972d29e0277403ebb3ce2926e8849ea'\n",
    "    client_secret = ''\n",
    "    que = 'BTS'\n",
    "    main()"
   ]
  }
 ],
 "metadata": {
  "kernelspec": {
   "display_name": "Python 3",
   "language": "python",
   "name": "python3"
  },
  "language_info": {
   "codemirror_mode": {
    "name": "ipython",
    "version": 3
   },
   "file_extension": ".py",
   "mimetype": "text/x-python",
   "name": "python",
   "nbconvert_exporter": "python",
   "pygments_lexer": "ipython3",
   "version": "3.8.8"
  }
 },
 "nbformat": 4,
 "nbformat_minor": 5
}
