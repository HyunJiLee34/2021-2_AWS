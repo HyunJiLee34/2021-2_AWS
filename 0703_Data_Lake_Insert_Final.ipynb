{
 "cells": [
  {
   "cell_type": "code",
   "execution_count": 1,
   "id": "9c5a5274",
   "metadata": {},
   "outputs": [],
   "source": [
    "import sys\n",
    "import boto3\n",
    "import pandas as pd\n",
    "from datetime import datetime"
   ]
  },
  {
   "cell_type": "code",
   "execution_count": null,
   "id": "bde3d36c",
   "metadata": {},
   "outputs": [],
   "source": [
    "def main():\n",
    "    try:\n",
    "        dynamodb = boto3.resource('dynamodb',\n",
    "                             region_name='ap-northeast-2',\n",
    "                             endpoint_url='http://dynamodb.ap-northeast-2.amazonaws.com')\n",
    "    except:\n",
    "        print('DynamoDB접속오류!')\n",
    "        sys.exit(1)\n",
    "    table = dynamodb.Table('top_tracks')\n",
    "    response = table.scan()\n",
    "    response = response['Items']\n",
    "    data = pd.DataFrame(response)\n",
    "    data = data[['artist_id','track_id','track_name','popularity','external_url']]\n",
    "    data.to_parquet('top_tracks.parquet', engine='pyarrow', compression='snappy')\n",
    "    dt = datetime.utcnow().strftime('%Y-%m-%d')\n",
    "    s3 = boto3.resource('s3', region_name='ap-northeast-2')\n",
    "    ob = s3.Object('moon-artist', 'top-tracks/dt={}/top_tracks.parquet'.format(dt))\n",
    "    data = open('top_tracks.parquet', 'rb')\n",
    "    ob.put(Body=data)\n"
   ]
  },
  {
   "cell_type": "code",
   "execution_count": null,
   "id": "721ba87d",
   "metadata": {},
   "outputs": [],
   "source": [
    "if __name__ == '__main__':\n",
    "    main()"
   ]
  }
 ],
 "metadata": {
  "kernelspec": {
   "display_name": "Python 3",
   "language": "python",
   "name": "python3"
  },
  "language_info": {
   "codemirror_mode": {
    "name": "ipython",
    "version": 3
   },
   "file_extension": ".py",
   "mimetype": "text/x-python",
   "name": "python",
   "nbconvert_exporter": "python",
   "pygments_lexer": "ipython3",
   "version": "3.8.8"
  }
 },
 "nbformat": 4,
 "nbformat_minor": 5
}
